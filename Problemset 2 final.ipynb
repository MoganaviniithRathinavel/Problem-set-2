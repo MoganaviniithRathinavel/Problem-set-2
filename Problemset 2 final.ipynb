{
 "cells": [
  {
   "cell_type": "markdown",
   "id": "f1289257",
   "metadata": {},
   "source": [
    "# Question 1"
   ]
  },
  {
   "cell_type": "code",
   "execution_count": 1,
   "id": "f6ef4844",
   "metadata": {},
   "outputs": [],
   "source": [
    "def c(a):\n",
    "    return a+2"
   ]
  },
  {
   "cell_type": "code",
   "execution_count": 2,
   "id": "b626ac17",
   "metadata": {},
   "outputs": [],
   "source": [
    "a=0\n",
    "def b():\n",
    "    global a\n",
    "    a=c(a)"
   ]
  },
  {
   "cell_type": "code",
   "execution_count": 3,
   "id": "887a5283",
   "metadata": {},
   "outputs": [],
   "source": [
    "b() ##Global a gets 0+2 and gets stored in a"
   ]
  },
  {
   "cell_type": "markdown",
   "id": "3a992c77",
   "metadata": {},
   "source": [
    "1.We have a global variable a with an initial value of 0 since it's defined outside of any function.\n",
    "\n",
    "2.When the function b() is first executed, it references the global variable a. This means that within the b() function, any reference to a will use the global a, not a local one.\n",
    "\n",
    "3.In b(), there's an assignment a = c(a). This calls the function c() and passes the global value of a as a parameter.\n",
    "\n",
    "4.Inside c(), it takes the parameter a and returns a + 2. This effectively increases the value of a by 2.\n",
    "\n",
    "5.The control then returns from c() to the assignment a = c(a) in b(), and the value returned by c() is stored in the global a.\n",
    "\n",
    "6.As a result, the value of a becomes 0 (the initial value) plus 2, so a is set to 2."
   ]
  },
  {
   "cell_type": "code",
   "execution_count": 4,
   "id": "8517f571",
   "metadata": {},
   "outputs": [],
   "source": [
    "b()"
   ]
  },
  {
   "cell_type": "markdown",
   "id": "2f775086",
   "metadata": {},
   "source": [
    "1.The global variable a already has a value of 2, which was set in the previous step.\n",
    "\n",
    "2.When b() is called, it refers to the global variable a. Inside the b() function, any reference to a will use the global a, not a local one.\n",
    "\n",
    "3.There's an assignment a = c(a) within b(), which invokes the function c() and passes the global value of a as a parameter.\n",
    "\n",
    "4.Inside the c() function, it takes the parameter a and returns a + 2, effectively increasing the value of a by 2.\n",
    "\n",
    "5.Control then returns from c() to the assignment a = c(a) in b(), and the value returned by c() is stored in the global a.\n",
    "\n",
    "6.Since the global a already had a value of 2, after this execution, the value becomes 2 (the previous value) plus 2, resulting in a being set to 4."
   ]
  },
  {
   "cell_type": "code",
   "execution_count": 5,
   "id": "e676a9e2",
   "metadata": {},
   "outputs": [],
   "source": [
    "b()"
   ]
  },
  {
   "cell_type": "markdown",
   "id": "c775ef73",
   "metadata": {},
   "source": [
    "1.The global variable a already holds the value 4, which was set in the previous step.\n",
    "\n",
    "2.When b() is called, it continues to reference the global variable a. Within the b() function, any reference to a uses the global a, not a local one.\n",
    "\n",
    "3.There's an assignment a = c(a) within b(), invoking the function c() and passing the global value of a as a parameter.\n",
    "\n",
    "4.Inside the c() function, it takes the parameter a and returns a + 2, effectively increasing the value of a by 2.\n",
    "\n",
    "5.Control then returns from c() to the assignment a = c(a) in b(), and the value returned by c() is stored in the global a.\n",
    "\n",
    "6.With the global a initially set to 4, after this execution, the value becomes 4 (the previous value) plus 2, resulting in a being set to 6."
   ]
  },
  {
   "cell_type": "code",
   "execution_count": 6,
   "id": "4aaa5240",
   "metadata": {},
   "outputs": [
    {
     "data": {
      "text/plain": [
       "6"
      ]
     },
     "execution_count": 6,
     "metadata": {},
     "output_type": "execute_result"
    }
   ],
   "source": [
    "a"
   ]
  },
  {
   "cell_type": "markdown",
   "id": "5c444838",
   "metadata": {},
   "source": [
    "# Question 2"
   ]
  },
  {
   "cell_type": "code",
   "execution_count": 7,
   "id": "07f2acd7",
   "metadata": {},
   "outputs": [
    {
     "name": "stdout",
     "output_type": "stream",
     "text": [
      "File C:\\Users\\User1\\Desktop\\test.txt is not found.\n",
      "File C:\\Users\\User1\\Desktop\\test123.txt is not found.\n"
     ]
    }
   ],
   "source": [
    "def fileLength(f_name):\n",
    "    try:\n",
    "        file = open(f_name)\n",
    "        values = file.read()\n",
    "        file.close()\n",
    "        print(len(values))\n",
    "    except FileNotFoundError:\n",
    "        print(f\"File {f_name} is not found.\")\n",
    "    \n",
    "        \n",
    "\n",
    "fileLength(r'C:\\Users\\User1\\Desktop\\test.txt')\n",
    "fileLength(r'C:\\Users\\User1\\Desktop\\test123.txt')"
   ]
  },
  {
   "cell_type": "markdown",
   "id": "04cb507d",
   "metadata": {},
   "source": [
    "# Question 3"
   ]
  },
  {
   "cell_type": "code",
   "execution_count": 8,
   "id": "6a482dd4",
   "metadata": {},
   "outputs": [
    {
     "name": "stdout",
     "output_type": "stream",
     "text": [
      "['doll', 'firetruck', 'kitten']\n"
     ]
    }
   ],
   "source": [
    "class Marsupial: \n",
    "    def __init__(self):\n",
    "        self.pouch = []\n",
    "    \n",
    "    def pouch_contents(self):\n",
    "        return self.pouch\n",
    "    \n",
    "    def put_in_pouch(self, item):\n",
    "        self.pouch.append(item)\n",
    "        \n",
    "class Kangaroo(Marsupial):\n",
    "    def __init__(self, x=0, y=0):\n",
    "        super().__init__()\n",
    "        self.x = x\n",
    "        self.y = y\n",
    "\n",
    "    def jump(self, dx, dy):\n",
    "        self.x += dx\n",
    "        self.y += dy\n",
    "\n",
    "    def __str__(self):\n",
    "        return f\"I am a Kangaroo located at coordinates ({self.x},{self.y})\"\n",
    "\n",
    "    \n",
    "m = Marsupial()\n",
    "m.put_in_pouch('doll')\n",
    "m.put_in_pouch('firetruck')\n",
    "m.put_in_pouch('kitten')\n",
    "m.pouch_contents()\n",
    "print(m.pouch_contents())\n",
    "\n"
   ]
  },
  {
   "cell_type": "code",
   "execution_count": 9,
   "id": "9b0b1549",
   "metadata": {},
   "outputs": [
    {
     "name": "stdout",
     "output_type": "stream",
     "text": [
      "I am a Kangaroo located at coordinates (0,0)\n",
      "['doll', 'firetruck', 'kitten']\n",
      "I am a Kangaroo located at coordinates (3,0)\n"
     ]
    }
   ],
   "source": [
    "k = Kangaroo(0,0)\n",
    "print(k)\n",
    "k.put_in_pouch('doll')\n",
    "k.put_in_pouch('firetruck')\n",
    "k.put_in_pouch('kitten')\n",
    "print(k.pouch_contents())\n",
    "k.jump(1,0)\n",
    "k.jump(1,0)\n",
    "k.jump(1,0)\n",
    "print(k)"
   ]
  },
  {
   "cell_type": "markdown",
   "id": "c3f62362",
   "metadata": {},
   "source": [
    "# Question 4"
   ]
  },
  {
   "cell_type": "code",
   "execution_count": 10,
   "id": "27ce65eb",
   "metadata": {},
   "outputs": [
    {
     "name": "stdout",
     "output_type": "stream",
     "text": [
      "collatz(1)\n",
      "1\n",
      "collatz(10)\n",
      "10\n",
      "5\n",
      "16\n",
      "8\n",
      "4\n",
      "2\n",
      "1\n"
     ]
    }
   ],
   "source": [
    "def collatz(x):\n",
    "    print(x)\n",
    "    if x == 1:\n",
    "        return \n",
    "    elif x % 2 == 0:\n",
    "        x = x // 2\n",
    "        return collatz(x)\n",
    "    else:\n",
    "        x = 3 * x + 1\n",
    "        return collatz(x)\n",
    "\n",
    "print('collatz(1)')        \n",
    "collatz(1)\n",
    "print('collatz(10)')\n",
    "collatz(10)"
   ]
  },
  {
   "cell_type": "markdown",
   "id": "583c0e42",
   "metadata": {},
   "source": [
    "# Question 5"
   ]
  },
  {
   "cell_type": "code",
   "execution_count": 11,
   "id": "e235daa5",
   "metadata": {},
   "outputs": [],
   "source": [
    "def binary(n):\n",
    "    if n <0: \n",
    "        print(\"Enter a non negative number\")\n",
    "    elif n==0:\n",
    "        return\n",
    "    else :\n",
    "        binary(n//2)\n",
    "    print(n%2,end='')\n",
    "        "
   ]
  },
  {
   "cell_type": "code",
   "execution_count": 12,
   "id": "333e1f93",
   "metadata": {},
   "outputs": [
    {
     "name": "stdout",
     "output_type": "stream",
     "text": [
      "1001"
     ]
    }
   ],
   "source": [
    "binary(9)"
   ]
  },
  {
   "cell_type": "code",
   "execution_count": 13,
   "id": "f347dcff",
   "metadata": {},
   "outputs": [
    {
     "name": "stdout",
     "output_type": "stream",
     "text": [
      "111"
     ]
    }
   ],
   "source": [
    "binary(7)"
   ]
  },
  {
   "cell_type": "markdown",
   "id": "3c1191e2",
   "metadata": {},
   "source": [
    "# Question 6"
   ]
  },
  {
   "cell_type": "code",
   "execution_count": 6,
   "id": "76834840",
   "metadata": {},
   "outputs": [
    {
     "name": "stdout",
     "output_type": "stream",
     "text": [
      "W3C Mission\n",
      "  Principles\n"
     ]
    }
   ],
   "source": [
    "from html.parser import HTMLParser\n",
    "\n",
    "class HeadingParser(HTMLParser):\n",
    "    def __init__(self):\n",
    "        super().__init__()\n",
    "        self.headings = []  # Store headings\n",
    "        self.in_heading = False  # To track if we're inside a heading\n",
    "\n",
    "    def handle_starttag(self, tag, attrs):\n",
    "        if tag.startswith('h') and len(tag) == 2 and tag[1].isdigit():\n",
    "            self.in_heading = True\n",
    "            self.headings.append((int(tag[1]), \"\"))\n",
    "\n",
    "    def handle_data(self, data):\n",
    "        if self.in_heading:\n",
    "            if self.headings:\n",
    "                self.headings[-1] = (self.headings[-1][0], self.headings[-1][1] + data.strip())\n",
    "\n",
    "    def handle_endtag(self, tag):\n",
    "        if self.in_heading:\n",
    "            self.in_heading = False\n",
    "\n",
    "    def print_headings(self):\n",
    "        for level, text in self.headings:\n",
    "            indentation = \"  \" * (level - 1)  # Two spaces per indentation level\n",
    "            print(f\"{indentation}{text}\")\n",
    "\n",
    "if __name__ == \"__main__\":\n",
    "    # Test your HeadingParser class\n",
    "    infile = open('w3c.txt', 'r', encoding='utf-8')\n",
    "    content = infile.read()\n",
    "    infile.close()\n",
    "\n",
    "    hp = HeadingParser()\n",
    "    hp.feed(content)\n",
    "\n",
    "    hp.print_headings()\n"
   ]
  },
  {
   "cell_type": "markdown",
   "id": "8ee78b55",
   "metadata": {},
   "source": [
    "# Question 7"
   ]
  },
  {
   "cell_type": "code",
   "execution_count": 7,
   "id": "6fe91917",
   "metadata": {},
   "outputs": [
    {
     "name": "stdout",
     "output_type": "stream",
     "text": [
      "http://web.simmons.edu/~grovesd/comm244/notes/week3/html-test-page.html\n",
      "  http://web.simmons.edu/~grovesd/comm244/notes/week3/css-linking#internal\n",
      "  http://web.simmons.edu/~grovesd/comm244\n",
      "  http://web.simmons.edu/~grovesd/comm244/week3\n"
     ]
    }
   ],
   "source": [
    "import requests\n",
    "from bs4 import BeautifulSoup\n",
    "from urllib.parse import urljoin\n",
    "\n",
    "def webdir(url, depth, indent):\n",
    "    if depth == 0:\n",
    "        return\n",
    "\n",
    "    try:\n",
    "        response = requests.get(url)\n",
    "        response.raise_for_status()\n",
    "    except requests.exceptions.RequestException as e:\n",
    "        print(f\"Error: {e}\")\n",
    "        return\n",
    "\n",
    "    soup = BeautifulSoup(response.text, 'html.parser')\n",
    "\n",
    "    # Print the current URL with appropriate indentation\n",
    "    print(\" \" * indent + url)\n",
    "\n",
    "    # Find and visit linked web pages\n",
    "    links = soup.find_all('a', href=True)\n",
    "    for link in links:\n",
    "        next_url = link['href']\n",
    "\n",
    "        # Resolve relative links to absolute URLs\n",
    "        next_url = urljoin(url, next_url)\n",
    "\n",
    "        webdir(next_url, depth - 1, indent + 2)\n",
    "\n",
    "# Example usage with the provided web page:\n",
    "webdir('http://web.simmons.edu/~grovesd/comm244/notes/week3/html-test-page.html', 2, 0)\n"
   ]
  },
  {
   "cell_type": "markdown",
   "id": "8faf0887",
   "metadata": {},
   "source": [
    "# Question 8"
   ]
  },
  {
   "cell_type": "code",
   "execution_count": 14,
   "id": "2f9aa95e",
   "metadata": {},
   "outputs": [
    {
     "data": {
      "text/plain": [
       "<sqlite3.Cursor at 0x194a824ea40>"
      ]
     },
     "execution_count": 14,
     "metadata": {},
     "output_type": "execute_result"
    }
   ],
   "source": [
    "import pandas as pd\n",
    "import sqlite3\n",
    "\n",
    "# Creating sqlite3 database\n",
    "conn = sqlite3.connect('Weatherdata.db')\n",
    "\n",
    "# Creating table \n",
    "conn.execute('''CREATE TABLE seasons_data\n",
    "            (City TEXT, Country TEXT, Season TEXT, Temperature FLOAT, Rainfall FLOAT)''')\n",
    "\n",
    "# Inserting data into the seasons_data table\n",
    "conn.execute(\"INSERT INTO seasons_data (City, Country, Season, Temperature, Rainfall) VALUES ('Mumbai', 'India', 'Winter', 24.8, 5.9)\")\n",
    "conn.execute(\"INSERT INTO seasons_data (City, Country, Season, Temperature, Rainfall) VALUES ('Mumbai', 'India', 'Spring', 28.4, 16.2)\")\n",
    "conn.execute(\"INSERT INTO seasons_data (City, Country, Season, Temperature, Rainfall) VALUES ('Mumbai', 'India', 'Summer', 27.9, 1549.4)\")\n",
    "conn.execute(\"INSERT INTO seasons_data (City, Country, Season, Temperature, Rainfall) VALUES ('Mumbai', 'India', 'Fall', 27.6, 346.0)\")\n",
    "conn.execute(\"INSERT INTO seasons_data (City, Country, Season, Temperature, Rainfall) VALUES ('London' , 'United Kingdom' , 'Winter' , 4.2,207.7)\")\n",
    "conn.execute(\"INSERT INTO seasons_data (City, Country, Season, Temperature, Rainfall) VALUES ('London' , 'United Kingdom' , 'Spring' , 8.3,169.6)\")\n",
    "conn.execute(\"INSERT INTO seasons_data (City, Country, Season, Temperature, Rainfall) VALUES ('London' , 'United Kingdom' , 'Summer' , 15.7,157.0)\")\n",
    "conn.execute(\"INSERT INTO seasons_data (City, Country, Season, Temperature, Rainfall) VALUES ('London' , 'United Kingdom' , 'Fall' , 10.4,218.5)\")\n",
    "conn.execute(\"INSERT INTO seasons_data (City, Country, Season, Temperature, Rainfall) VALUES ('Cairo', 'Egypt', 'Winter' , 13.6, 16.5)\")\n",
    "conn.execute(\"INSERT INTO seasons_data (City, Country, Season, Temperature, Rainfall) VALUES ('Cairo', 'Egypt', 'Spring' , 20.7, 6.5)\")\n",
    "conn.execute(\"INSERT INTO seasons_data (City, Country, Season, Temperature, Rainfall) VALUES ('Cairo', 'Egypt', 'Summer' , 27.7, 0.1)\")\n",
    "conn.execute(\"INSERT INTO seasons_data (City, Country, Season, Temperature, Rainfall) VALUES ('Cairo', 'Egypt', 'Fall' , 22.2, 4.5)\")\n"
   ]
  },
  {
   "cell_type": "code",
   "execution_count": 15,
   "id": "496b41bf",
   "metadata": {},
   "outputs": [
    {
     "data": {
      "text/html": [
       "<div>\n",
       "<style scoped>\n",
       "    .dataframe tbody tr th:only-of-type {\n",
       "        vertical-align: middle;\n",
       "    }\n",
       "\n",
       "    .dataframe tbody tr th {\n",
       "        vertical-align: top;\n",
       "    }\n",
       "\n",
       "    .dataframe thead th {\n",
       "        text-align: right;\n",
       "    }\n",
       "</style>\n",
       "<table border=\"1\" class=\"dataframe\">\n",
       "  <thead>\n",
       "    <tr style=\"text-align: right;\">\n",
       "      <th></th>\n",
       "      <th>Temperature</th>\n",
       "    </tr>\n",
       "  </thead>\n",
       "  <tbody>\n",
       "    <tr>\n",
       "      <th>0</th>\n",
       "      <td>24.8</td>\n",
       "    </tr>\n",
       "    <tr>\n",
       "      <th>1</th>\n",
       "      <td>28.4</td>\n",
       "    </tr>\n",
       "    <tr>\n",
       "      <th>2</th>\n",
       "      <td>27.9</td>\n",
       "    </tr>\n",
       "    <tr>\n",
       "      <th>3</th>\n",
       "      <td>27.6</td>\n",
       "    </tr>\n",
       "    <tr>\n",
       "      <th>4</th>\n",
       "      <td>4.2</td>\n",
       "    </tr>\n",
       "    <tr>\n",
       "      <th>5</th>\n",
       "      <td>8.3</td>\n",
       "    </tr>\n",
       "    <tr>\n",
       "      <th>6</th>\n",
       "      <td>15.7</td>\n",
       "    </tr>\n",
       "    <tr>\n",
       "      <th>7</th>\n",
       "      <td>10.4</td>\n",
       "    </tr>\n",
       "    <tr>\n",
       "      <th>8</th>\n",
       "      <td>13.6</td>\n",
       "    </tr>\n",
       "    <tr>\n",
       "      <th>9</th>\n",
       "      <td>20.7</td>\n",
       "    </tr>\n",
       "    <tr>\n",
       "      <th>10</th>\n",
       "      <td>27.7</td>\n",
       "    </tr>\n",
       "    <tr>\n",
       "      <th>11</th>\n",
       "      <td>22.2</td>\n",
       "    </tr>\n",
       "  </tbody>\n",
       "</table>\n",
       "</div>"
      ],
      "text/plain": [
       "    Temperature\n",
       "0          24.8\n",
       "1          28.4\n",
       "2          27.9\n",
       "3          27.6\n",
       "4           4.2\n",
       "5           8.3\n",
       "6          15.7\n",
       "7          10.4\n",
       "8          13.6\n",
       "9          20.7\n",
       "10         27.7\n",
       "11         22.2"
      ]
     },
     "execution_count": 15,
     "metadata": {},
     "output_type": "execute_result"
    }
   ],
   "source": [
    "a = pd.DataFrame(conn.execute(\"SELECT Temperature FROM seasons_data\"))\n",
    "\n",
    "a.columns = ['Temperature']\n",
    "a"
   ]
  },
  {
   "cell_type": "code",
   "execution_count": 16,
   "id": "78f4b9f3",
   "metadata": {},
   "outputs": [
    {
     "data": {
      "text/html": [
       "<div>\n",
       "<style scoped>\n",
       "    .dataframe tbody tr th:only-of-type {\n",
       "        vertical-align: middle;\n",
       "    }\n",
       "\n",
       "    .dataframe tbody tr th {\n",
       "        vertical-align: top;\n",
       "    }\n",
       "\n",
       "    .dataframe thead th {\n",
       "        text-align: right;\n",
       "    }\n",
       "</style>\n",
       "<table border=\"1\" class=\"dataframe\">\n",
       "  <thead>\n",
       "    <tr style=\"text-align: right;\">\n",
       "      <th></th>\n",
       "      <th>City</th>\n",
       "    </tr>\n",
       "  </thead>\n",
       "  <tbody>\n",
       "    <tr>\n",
       "      <th>0</th>\n",
       "      <td>Mumbai</td>\n",
       "    </tr>\n",
       "    <tr>\n",
       "      <th>1</th>\n",
       "      <td>London</td>\n",
       "    </tr>\n",
       "    <tr>\n",
       "      <th>2</th>\n",
       "      <td>Cairo</td>\n",
       "    </tr>\n",
       "  </tbody>\n",
       "</table>\n",
       "</div>"
      ],
      "text/plain": [
       "     City\n",
       "0  Mumbai\n",
       "1  London\n",
       "2   Cairo"
      ]
     },
     "execution_count": 16,
     "metadata": {},
     "output_type": "execute_result"
    }
   ],
   "source": [
    "b = pd.DataFrame(conn.execute(\"SELECT DISTINCT City FROM seasons_data\"))\n",
    "\n",
    "b.columns = ['City']\n",
    "b"
   ]
  },
  {
   "cell_type": "code",
   "execution_count": 17,
   "id": "41ddbf0d",
   "metadata": {},
   "outputs": [
    {
     "data": {
      "text/html": [
       "<div>\n",
       "<style scoped>\n",
       "    .dataframe tbody tr th:only-of-type {\n",
       "        vertical-align: middle;\n",
       "    }\n",
       "\n",
       "    .dataframe tbody tr th {\n",
       "        vertical-align: top;\n",
       "    }\n",
       "\n",
       "    .dataframe thead th {\n",
       "        text-align: right;\n",
       "    }\n",
       "</style>\n",
       "<table border=\"1\" class=\"dataframe\">\n",
       "  <thead>\n",
       "    <tr style=\"text-align: right;\">\n",
       "      <th></th>\n",
       "      <th>City</th>\n",
       "      <th>Country</th>\n",
       "      <th>Season</th>\n",
       "      <th>Temperature</th>\n",
       "      <th>Rainfall</th>\n",
       "    </tr>\n",
       "  </thead>\n",
       "  <tbody>\n",
       "    <tr>\n",
       "      <th>0</th>\n",
       "      <td>Mumbai</td>\n",
       "      <td>India</td>\n",
       "      <td>Winter</td>\n",
       "      <td>24.8</td>\n",
       "      <td>5.9</td>\n",
       "    </tr>\n",
       "    <tr>\n",
       "      <th>1</th>\n",
       "      <td>Mumbai</td>\n",
       "      <td>India</td>\n",
       "      <td>Spring</td>\n",
       "      <td>28.4</td>\n",
       "      <td>16.2</td>\n",
       "    </tr>\n",
       "    <tr>\n",
       "      <th>2</th>\n",
       "      <td>Mumbai</td>\n",
       "      <td>India</td>\n",
       "      <td>Summer</td>\n",
       "      <td>27.9</td>\n",
       "      <td>1549.4</td>\n",
       "    </tr>\n",
       "    <tr>\n",
       "      <th>3</th>\n",
       "      <td>Mumbai</td>\n",
       "      <td>India</td>\n",
       "      <td>Fall</td>\n",
       "      <td>27.6</td>\n",
       "      <td>346.0</td>\n",
       "    </tr>\n",
       "  </tbody>\n",
       "</table>\n",
       "</div>"
      ],
      "text/plain": [
       "     City Country  Season  Temperature  Rainfall\n",
       "0  Mumbai   India  Winter         24.8       5.9\n",
       "1  Mumbai   India  Spring         28.4      16.2\n",
       "2  Mumbai   India  Summer         27.9    1549.4\n",
       "3  Mumbai   India    Fall         27.6     346.0"
      ]
     },
     "execution_count": 17,
     "metadata": {},
     "output_type": "execute_result"
    }
   ],
   "source": [
    "c = pd.DataFrame(conn.execute(\"SELECT * FROM seasons_data WHERE Country='India'\"))\n",
    "\n",
    "c.columns = ['City', 'Country', 'Season', 'Temperature', 'Rainfall']\n",
    "c"
   ]
  },
  {
   "cell_type": "code",
   "execution_count": 18,
   "id": "f4b83e45",
   "metadata": {},
   "outputs": [
    {
     "data": {
      "text/html": [
       "<div>\n",
       "<style scoped>\n",
       "    .dataframe tbody tr th:only-of-type {\n",
       "        vertical-align: middle;\n",
       "    }\n",
       "\n",
       "    .dataframe tbody tr th {\n",
       "        vertical-align: top;\n",
       "    }\n",
       "\n",
       "    .dataframe thead th {\n",
       "        text-align: right;\n",
       "    }\n",
       "</style>\n",
       "<table border=\"1\" class=\"dataframe\">\n",
       "  <thead>\n",
       "    <tr style=\"text-align: right;\">\n",
       "      <th></th>\n",
       "      <th>City</th>\n",
       "      <th>Country</th>\n",
       "      <th>Season</th>\n",
       "      <th>Temperature</th>\n",
       "      <th>Rainfall</th>\n",
       "    </tr>\n",
       "  </thead>\n",
       "  <tbody>\n",
       "    <tr>\n",
       "      <th>0</th>\n",
       "      <td>Mumbai</td>\n",
       "      <td>India</td>\n",
       "      <td>Fall</td>\n",
       "      <td>27.6</td>\n",
       "      <td>346.0</td>\n",
       "    </tr>\n",
       "    <tr>\n",
       "      <th>1</th>\n",
       "      <td>London</td>\n",
       "      <td>United Kingdom</td>\n",
       "      <td>Fall</td>\n",
       "      <td>10.4</td>\n",
       "      <td>218.5</td>\n",
       "    </tr>\n",
       "    <tr>\n",
       "      <th>2</th>\n",
       "      <td>Cairo</td>\n",
       "      <td>Egypt</td>\n",
       "      <td>Fall</td>\n",
       "      <td>22.2</td>\n",
       "      <td>4.5</td>\n",
       "    </tr>\n",
       "  </tbody>\n",
       "</table>\n",
       "</div>"
      ],
      "text/plain": [
       "     City         Country Season  Temperature  Rainfall\n",
       "0  Mumbai           India   Fall         27.6     346.0\n",
       "1  London  United Kingdom   Fall         10.4     218.5\n",
       "2   Cairo           Egypt   Fall         22.2       4.5"
      ]
     },
     "execution_count": 18,
     "metadata": {},
     "output_type": "execute_result"
    }
   ],
   "source": [
    "d = pd.DataFrame(conn.execute(\"SELECT * FROM seasons_data WHERE Season='Fall'\"))\n",
    "\n",
    "d.columns = ['City', 'Country', 'Season', 'Temperature', 'Rainfall']\n",
    "d\n"
   ]
  },
  {
   "cell_type": "code",
   "execution_count": 19,
   "id": "3213ea55",
   "metadata": {},
   "outputs": [
    {
     "data": {
      "text/html": [
       "<div>\n",
       "<style scoped>\n",
       "    .dataframe tbody tr th:only-of-type {\n",
       "        vertical-align: middle;\n",
       "    }\n",
       "\n",
       "    .dataframe tbody tr th {\n",
       "        vertical-align: top;\n",
       "    }\n",
       "\n",
       "    .dataframe thead th {\n",
       "        text-align: right;\n",
       "    }\n",
       "</style>\n",
       "<table border=\"1\" class=\"dataframe\">\n",
       "  <thead>\n",
       "    <tr style=\"text-align: right;\">\n",
       "      <th></th>\n",
       "      <th>City</th>\n",
       "      <th>Country</th>\n",
       "      <th>Season</th>\n",
       "    </tr>\n",
       "  </thead>\n",
       "  <tbody>\n",
       "    <tr>\n",
       "      <th>0</th>\n",
       "      <td>London</td>\n",
       "      <td>United Kingdom</td>\n",
       "      <td>Fall</td>\n",
       "    </tr>\n",
       "    <tr>\n",
       "      <th>1</th>\n",
       "      <td>London</td>\n",
       "      <td>United Kingdom</td>\n",
       "      <td>Winter</td>\n",
       "    </tr>\n",
       "    <tr>\n",
       "      <th>2</th>\n",
       "      <td>Mumbai</td>\n",
       "      <td>India</td>\n",
       "      <td>Fall</td>\n",
       "    </tr>\n",
       "  </tbody>\n",
       "</table>\n",
       "</div>"
      ],
      "text/plain": [
       "     City         Country  Season\n",
       "0  London  United Kingdom    Fall\n",
       "1  London  United Kingdom  Winter\n",
       "2  Mumbai           India    Fall"
      ]
     },
     "execution_count": 19,
     "metadata": {},
     "output_type": "execute_result"
    }
   ],
   "source": [
    "e = pd.DataFrame(conn.execute(\"\"\"\n",
    "    SELECT City, Country, Season\n",
    "    FROM seasons_data\n",
    "    GROUP BY City, Country, Season\n",
    "    HAVING AVG(Rainfall) BETWEEN 200 AND 400\n",
    "\"\"\"))\n",
    "\n",
    "e.columns = ['City', 'Country', 'Season']\n",
    "e"
   ]
  },
  {
   "cell_type": "code",
   "execution_count": 20,
   "id": "197803e2",
   "metadata": {},
   "outputs": [
    {
     "data": {
      "text/html": [
       "<div>\n",
       "<style scoped>\n",
       "    .dataframe tbody tr th:only-of-type {\n",
       "        vertical-align: middle;\n",
       "    }\n",
       "\n",
       "    .dataframe tbody tr th {\n",
       "        vertical-align: top;\n",
       "    }\n",
       "\n",
       "    .dataframe thead th {\n",
       "        text-align: right;\n",
       "    }\n",
       "</style>\n",
       "<table border=\"1\" class=\"dataframe\">\n",
       "  <thead>\n",
       "    <tr style=\"text-align: right;\">\n",
       "      <th></th>\n",
       "      <th>City</th>\n",
       "      <th>Country</th>\n",
       "    </tr>\n",
       "  </thead>\n",
       "  <tbody>\n",
       "    <tr>\n",
       "      <th>0</th>\n",
       "      <td>Cairo</td>\n",
       "      <td>Egypt</td>\n",
       "    </tr>\n",
       "    <tr>\n",
       "      <th>1</th>\n",
       "      <td>Mumbai</td>\n",
       "      <td>India</td>\n",
       "    </tr>\n",
       "  </tbody>\n",
       "</table>\n",
       "</div>"
      ],
      "text/plain": [
       "     City Country\n",
       "0   Cairo   Egypt\n",
       "1  Mumbai   India"
      ]
     },
     "execution_count": 20,
     "metadata": {},
     "output_type": "execute_result"
    }
   ],
   "source": [
    "f = pd.DataFrame(conn.execute(\"\"\"\n",
    "    SELECT City, Country\n",
    "    FROM seasons_data\n",
    "    WHERE Season='Fall'\n",
    "    GROUP BY City, Country\n",
    "    HAVING AVG(Temperature) > 20\n",
    "    ORDER BY AVG(Temperature)\n",
    "\"\"\"))\n",
    "\n",
    "f.columns = ['City', 'Country']\n",
    "f"
   ]
  },
  {
   "cell_type": "code",
   "execution_count": 21,
   "id": "1023391e",
   "metadata": {},
   "outputs": [
    {
     "data": {
      "text/html": [
       "<div>\n",
       "<style scoped>\n",
       "    .dataframe tbody tr th:only-of-type {\n",
       "        vertical-align: middle;\n",
       "    }\n",
       "\n",
       "    .dataframe tbody tr th {\n",
       "        vertical-align: top;\n",
       "    }\n",
       "\n",
       "    .dataframe thead th {\n",
       "        text-align: right;\n",
       "    }\n",
       "</style>\n",
       "<table border=\"1\" class=\"dataframe\">\n",
       "  <thead>\n",
       "    <tr style=\"text-align: right;\">\n",
       "      <th></th>\n",
       "      <th>Total Annual Rainfall</th>\n",
       "    </tr>\n",
       "  </thead>\n",
       "  <tbody>\n",
       "    <tr>\n",
       "      <th>0</th>\n",
       "      <td>27.6</td>\n",
       "    </tr>\n",
       "  </tbody>\n",
       "</table>\n",
       "</div>"
      ],
      "text/plain": [
       "   Total Annual Rainfall\n",
       "0                   27.6"
      ]
     },
     "execution_count": 21,
     "metadata": {},
     "output_type": "execute_result"
    }
   ],
   "source": [
    "g = pd.DataFrame(conn.execute(\"\"\"\n",
    "    SELECT SUM(Rainfall) AS total_annual_rainfall\n",
    "    FROM seasons_data\n",
    "    WHERE City='Cairo'\n",
    "\"\"\"))\n",
    "\n",
    "g = g.rename(columns={0: 'Total Annual Rainfall'})\n",
    "g\n"
   ]
  },
  {
   "cell_type": "code",
   "execution_count": 22,
   "id": "ff3d44ed",
   "metadata": {},
   "outputs": [
    {
     "data": {
      "text/html": [
       "<div>\n",
       "<style scoped>\n",
       "    .dataframe tbody tr th:only-of-type {\n",
       "        vertical-align: middle;\n",
       "    }\n",
       "\n",
       "    .dataframe tbody tr th {\n",
       "        vertical-align: top;\n",
       "    }\n",
       "\n",
       "    .dataframe thead th {\n",
       "        text-align: right;\n",
       "    }\n",
       "</style>\n",
       "<table border=\"1\" class=\"dataframe\">\n",
       "  <thead>\n",
       "    <tr style=\"text-align: right;\">\n",
       "      <th></th>\n",
       "      <th>Season</th>\n",
       "      <th>Total Rainfall</th>\n",
       "    </tr>\n",
       "  </thead>\n",
       "  <tbody>\n",
       "    <tr>\n",
       "      <th>0</th>\n",
       "      <td>Fall</td>\n",
       "      <td>569.0</td>\n",
       "    </tr>\n",
       "    <tr>\n",
       "      <th>1</th>\n",
       "      <td>Spring</td>\n",
       "      <td>192.3</td>\n",
       "    </tr>\n",
       "    <tr>\n",
       "      <th>2</th>\n",
       "      <td>Summer</td>\n",
       "      <td>1706.5</td>\n",
       "    </tr>\n",
       "    <tr>\n",
       "      <th>3</th>\n",
       "      <td>Winter</td>\n",
       "      <td>230.1</td>\n",
       "    </tr>\n",
       "  </tbody>\n",
       "</table>\n",
       "</div>"
      ],
      "text/plain": [
       "   Season  Total Rainfall\n",
       "0    Fall           569.0\n",
       "1  Spring           192.3\n",
       "2  Summer          1706.5\n",
       "3  Winter           230.1"
      ]
     },
     "execution_count": 22,
     "metadata": {},
     "output_type": "execute_result"
    }
   ],
   "source": [
    "h = pd.DataFrame(conn.execute(\"\"\"\n",
    "    SELECT Season, SUM(Rainfall) AS total_rainfall\n",
    "    FROM seasons_data\n",
    "    GROUP BY Season\n",
    "\"\"\"))\n",
    "h = h.rename(columns={0: 'Season', 1: 'Total Rainfall'})\n",
    "h"
   ]
  },
  {
   "cell_type": "code",
   "execution_count": 23,
   "id": "f551c6d1",
   "metadata": {},
   "outputs": [],
   "source": [
    "\n",
    "# Commit changes and close the connection\n",
    "conn.commit()\n",
    "conn.close()\n"
   ]
  },
  {
   "cell_type": "markdown",
   "id": "e7fb8c12",
   "metadata": {},
   "source": [
    "# Question 9"
   ]
  },
  {
   "cell_type": "code",
   "execution_count": 24,
   "id": "c2e6e979",
   "metadata": {},
   "outputs": [
    {
     "name": "stdout",
     "output_type": "stream",
     "text": [
      "a> ['THE', 'QUICK', 'BROWN', 'FOX', 'JUMPS', 'OVER', 'THE', 'LAZY', 'DOG']\n",
      "b> ['the', 'quick', 'brown', 'fox', 'jumps', 'over', 'the', 'lazy', 'dog']\n",
      "c> [3, 5, 5, 3, 5, 4, 3, 4, 3]\n",
      "d> [['THE', 'the', 3], ['QUICK', 'quick', 5], ['BROWN', 'brown', 5], ['FOX', 'fox', 3], ['JUMPS', 'jumps', 5], ['OVER', 'over', 4], ['THE', 'the', 3], ['LAZY', 'lazy', 4], ['DOG', 'dog', 3]]\n",
      "e> ['quick', 'brown', 'jumps', 'over', 'lazy']\n"
     ]
    }
   ],
   "source": [
    "words = ['The', 'quick', 'brown', 'fox', 'jumps', 'over',\n",
    "'the', 'lazy', 'dog']\n",
    "\n",
    "print('a> ',end='')\n",
    "w_up=[word.upper() for word in words]\n",
    "print(w_up)\n",
    "\n",
    "print('b> ',end='')\n",
    "w_lo=[word.lower() for word in words]\n",
    "print(w_lo)\n",
    "\n",
    "print('c> ',end='')\n",
    "w_len=[len(word) for word in words]\n",
    "print(w_len)\n",
    "\n",
    "print('d> ',end='')\n",
    "w_ull=[[word.upper(),word.lower(),len(word)] for word in words]\n",
    "print(w_ull)\n",
    "\n",
    "print('e> ',end='')\n",
    "w_ull=[ word for word in words if len(word)>3]\n",
    "print(w_ull)"
   ]
  }
 ],
 "metadata": {
  "kernelspec": {
   "display_name": "Python 3 (ipykernel)",
   "language": "python",
   "name": "python3"
  },
  "language_info": {
   "codemirror_mode": {
    "name": "ipython",
    "version": 3
   },
   "file_extension": ".py",
   "mimetype": "text/x-python",
   "name": "python",
   "nbconvert_exporter": "python",
   "pygments_lexer": "ipython3",
   "version": "3.11.5"
  }
 },
 "nbformat": 4,
 "nbformat_minor": 5
}
